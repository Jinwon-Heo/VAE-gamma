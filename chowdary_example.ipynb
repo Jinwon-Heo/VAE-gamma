{
 "cells": [
  {
   "cell_type": "code",
   "execution_count": 1,
   "id": "primary-batch",
   "metadata": {
    "collapsed": true,
    "jupyter": {
     "outputs_hidden": true
    },
    "tags": []
   },
   "outputs": [
    {
     "name": "stderr",
     "output_type": "stream",
     "text": [
      "  0%|          | 0/3 [00:00<?, ?it/s]\n",
      "  0%|          | 0/1 [00:00<?, ?it/s]\u001b[A"
     ]
    },
    {
     "name": "stdout",
     "output_type": "stream",
     "text": [
      "Accurasy: 58.97435897435897\n",
      "ARI: 0.0\n",
      "***** Test Result: loss: 148.112 acc: 61.9048\n",
      "Accurasy: 58.97435897435897\n",
      "ARI: 0.0\n",
      "***** Test Result: loss: 124.272 acc: 61.9048\n",
      "Accurasy: 58.97435897435897\n",
      "ARI: 0.0\n",
      "***** Test Result: loss: 104.860 acc: 61.9048\n",
      "Accurasy: 60.256410256410255\n",
      "ARI: 0.0\n",
      "***** Test Result: loss: 102.862 acc: 61.9048\n",
      "Accurasy: 56.41025641025641\n",
      "ARI: 0.0\n",
      "***** Test Result: loss: 99.352 acc: 61.9048\n",
      "Accurasy: 61.53846153846154\n",
      "ARI: 0.0\n",
      "***** Test Result: loss: 100.283 acc: 52.3810\n",
      "Accurasy: 61.53846153846154\n",
      "ARI: 0.0\n",
      "***** Test Result: loss: 97.536 acc: 52.3810\n",
      "Accurasy: 62.82051282051282\n",
      "ARI: 0.0\n",
      "***** Test Result: loss: 95.283 acc: 52.3810\n",
      "Accurasy: 61.53846153846154\n",
      "ARI: 0.0\n",
      "***** Test Result: loss: 92.252 acc: 52.3810\n",
      "Accurasy: 61.53846153846154\n",
      "ARI: 0.0\n",
      "***** Test Result: loss: 89.813 acc: 52.3810\n",
      "Accurasy: 58.97435897435897\n",
      "ARI: 0.0\n",
      "***** Test Result: loss: 85.046 acc: 71.4286\n",
      "Accurasy: 56.41025641025641\n",
      "ARI: 0.0\n",
      "***** Test Result: loss: 82.966 acc: 71.4286\n",
      "Accurasy: 56.41025641025641\n",
      "ARI: 0.0\n",
      "***** Test Result: loss: 80.765 acc: 71.4286\n",
      "Accurasy: 55.12820512820513\n",
      "ARI: 0.0\n",
      "***** Test Result: loss: 79.193 acc: 71.4286\n",
      "Accurasy: 55.12820512820513\n",
      "ARI: 0.0\n",
      "***** Test Result: loss: 77.633 acc: 71.4286\n",
      "Accurasy: 57.69230769230769\n",
      "ARI: 0.0\n",
      "***** Test Result: loss: 72.452 acc: 66.6667\n",
      "Accurasy: 60.256410256410255\n",
      "ARI: 0.0\n",
      "***** Test Result: loss: 71.818 acc: 66.6667\n",
      "Accurasy: 58.97435897435897\n",
      "ARI: 0.0\n",
      "***** Test Result: loss: 72.098 acc: 66.6667\n",
      "Accurasy: 58.97435897435897\n",
      "ARI: 0.0\n",
      "***** Test Result: loss: 71.399 acc: 66.6667\n",
      "Accurasy: 58.97435897435897\n",
      "ARI: 0.0\n",
      "***** Test Result: loss: 71.715 acc: 66.6667\n",
      "Accurasy: 65.38461538461539\n",
      "ARI: 0.0\n",
      "***** Test Result: loss: 71.394 acc: 55.0000\n",
      "Accurasy: 64.1025641025641\n",
      "ARI: 0.0\n",
      "***** Test Result: loss: 70.931 acc: 55.0000\n",
      "Accurasy: 65.38461538461539\n",
      "ARI: 0.0\n",
      "***** Test Result: loss: 70.847 acc: 55.0000\n",
      "Accurasy: 66.66666666666667\n",
      "ARI: 0.0\n",
      "***** Test Result: loss: 70.654 acc: 55.0000\n"
     ]
    },
    {
     "name": "stderr",
     "output_type": "stream",
     "text": [
      "\n",
      "100%|██████████| 1/1 [00:27<00:00, 27.89s/it]\u001b[A\n",
      " 33%|███▎      | 1/3 [00:27<00:55, 27.89s/it]"
     ]
    },
    {
     "name": "stdout",
     "output_type": "stream",
     "text": [
      "Accurasy: 61.53846153846154\n",
      "ARI: 0.0\n",
      "***** Test Result: loss: 70.540 acc: 55.0000\n"
     ]
    },
    {
     "name": "stderr",
     "output_type": "stream",
     "text": [
      "\n",
      "  0%|          | 0/1 [00:00<?, ?it/s]\u001b[A"
     ]
    },
    {
     "name": "stdout",
     "output_type": "stream",
     "text": [
      "Accurasy: 65.38461538461539\n",
      "ARI: 0.06056366666174434\n",
      "***** Test Result: loss: 125.153 acc: 85.7143\n",
      "Accurasy: 61.53846153846154\n",
      "ARI: 0.032915129151291515\n",
      "***** Test Result: loss: 131.544 acc: 71.4286\n",
      "Accurasy: 65.38461538461539\n",
      "ARI: 0.06056366666174434\n",
      "***** Test Result: loss: 128.809 acc: 66.6667\n",
      "Accurasy: 61.53846153846154\n",
      "ARI: 0.031914893617021274\n",
      "***** Test Result: loss: 111.717 acc: 71.4286\n",
      "Accurasy: 65.38461538461539\n",
      "ARI: 0.06907325182110294\n",
      "***** Test Result: loss: 129.780 acc: 61.9048\n",
      "Accurasy: 65.38461538461539\n",
      "ARI: 0.06056366666174434\n",
      "***** Test Result: loss: 99.597 acc: 61.9048\n",
      "Accurasy: 67.94871794871794\n",
      "ARI: 0.07785638618013455\n",
      "***** Test Result: loss: 101.348 acc: 71.4286\n",
      "Accurasy: 64.1025641025641\n",
      "ARI: 0.02307151780137414\n",
      "***** Test Result: loss: 101.337 acc: 80.9524\n",
      "Accurasy: 67.94871794871794\n",
      "ARI: 0.0893158153123616\n",
      "***** Test Result: loss: 97.590 acc: 76.1905\n",
      "Accurasy: 65.38461538461539\n",
      "ARI: 0.06056366666174434\n",
      "***** Test Result: loss: 97.775 acc: 66.6667\n",
      "Accurasy: 62.82051282051282\n",
      "ARI: 0.05128819652486519\n",
      "***** Test Result: loss: 94.646 acc: 85.7143\n",
      "Accurasy: 58.97435897435897\n",
      "ARI: 0.011424354243542436\n",
      "***** Test Result: loss: 95.450 acc: 90.4762\n",
      "Accurasy: 58.97435897435897\n",
      "ARI: 0.016408850597219502\n",
      "***** Test Result: loss: 97.663 acc: 76.1905\n",
      "Accurasy: 61.53846153846154\n",
      "ARI: 0.031914893617021274\n",
      "***** Test Result: loss: 92.057 acc: 85.7143\n",
      "Accurasy: 65.38461538461539\n",
      "ARI: 0.07568213503286197\n",
      "***** Test Result: loss: 90.237 acc: 80.9524\n",
      "Accurasy: 64.1025641025641\n",
      "ARI: 0.06069364161849711\n",
      "***** Test Result: loss: 85.126 acc: 71.4286\n",
      "Accurasy: 65.38461538461539\n",
      "ARI: 0.07568213503286197\n",
      "***** Test Result: loss: 82.446 acc: 66.6667\n",
      "Accurasy: 70.51282051282051\n",
      "ARI: 0.14362300606574868\n",
      "***** Test Result: loss: 81.069 acc: 80.9524\n",
      "Accurasy: 66.66666666666667\n",
      "ARI: 0.09289843104872006\n",
      "***** Test Result: loss: 80.978 acc: 66.6667\n",
      "Accurasy: 64.1025641025641\n",
      "ARI: 0.06515996477839742\n",
      "***** Test Result: loss: 78.132 acc: 66.6667\n",
      "Accurasy: 70.51282051282051\n",
      "ARI: 0.13677541974543614\n",
      "***** Test Result: loss: 75.813 acc: 60.0000\n",
      "Accurasy: 67.94871794871794\n",
      "ARI: 0.0893158153123616\n",
      "***** Test Result: loss: 76.408 acc: 55.0000\n",
      "Accurasy: 65.38461538461539\n",
      "ARI: 0.05101455608050905\n",
      "***** Test Result: loss: 75.862 acc: 55.0000\n",
      "Accurasy: 70.51282051282051\n",
      "ARI: 0.1240587850761446\n",
      "***** Test Result: loss: 74.055 acc: 60.0000\n",
      "Accurasy: 66.66666666666667\n",
      "ARI: 0.07250786758336349\n"
     ]
    },
    {
     "name": "stderr",
     "output_type": "stream",
     "text": [
      "\n",
      "100%|██████████| 1/1 [00:05<00:00,  5.84s/it]\u001b[A\n",
      " 67%|██████▋   | 2/3 [00:33<00:14, 14.93s/it]"
     ]
    },
    {
     "name": "stdout",
     "output_type": "stream",
     "text": [
      "***** Test Result: loss: 74.814 acc: 55.0000\n"
     ]
    },
    {
     "name": "stderr",
     "output_type": "stream",
     "text": [
      "\n",
      "  0%|          | 0/1 [00:00<?, ?it/s]\u001b[A"
     ]
    },
    {
     "name": "stdout",
     "output_type": "stream",
     "text": [
      "Accurasy: 58.97435897435897\n",
      "ARI: 0.09602429072967075\n",
      "***** Test Result: loss: 150.094 acc: 71.4286\n",
      "Accurasy: 56.41025641025641\n",
      "ARI: -0.00683371298405467\n",
      "***** Test Result: loss: 126.917 acc: 61.9048\n",
      "Accurasy: 60.256410256410255\n",
      "ARI: 0.0\n"
     ]
    },
    {
     "name": "stderr",
     "output_type": "stream",
     "text": [
      "/home/jupyter-heojw/.conda/envs/jwheo/lib/python3.7/site-packages/sklearn/mixture/_base.py:146: ConvergenceWarning: Number of distinct clusters (1) found smaller than n_clusters (3). Possibly due to duplicate points in X.\n",
      "  .fit(X)\n"
     ]
    },
    {
     "name": "stdout",
     "output_type": "stream",
     "text": [
      "***** Test Result: loss: 104.336 acc: 61.9048\n",
      "Accurasy: 61.53846153846154\n",
      "ARI: 0.0\n"
     ]
    },
    {
     "name": "stderr",
     "output_type": "stream",
     "text": [
      "/home/jupyter-heojw/.conda/envs/jwheo/lib/python3.7/site-packages/sklearn/mixture/_base.py:146: ConvergenceWarning: Number of distinct clusters (1) found smaller than n_clusters (3). Possibly due to duplicate points in X.\n",
      "  .fit(X)\n"
     ]
    },
    {
     "name": "stdout",
     "output_type": "stream",
     "text": [
      "***** Test Result: loss: 97.852 acc: 61.9048\n",
      "Accurasy: 60.256410256410255\n",
      "ARI: 0.0\n"
     ]
    },
    {
     "name": "stderr",
     "output_type": "stream",
     "text": [
      "/home/jupyter-heojw/.conda/envs/jwheo/lib/python3.7/site-packages/sklearn/mixture/_base.py:146: ConvergenceWarning: Number of distinct clusters (2) found smaller than n_clusters (3). Possibly due to duplicate points in X.\n",
      "  .fit(X)\n"
     ]
    },
    {
     "name": "stdout",
     "output_type": "stream",
     "text": [
      "***** Test Result: loss: 94.087 acc: 61.9048\n",
      "Accurasy: 60.256410256410255\n",
      "ARI: 0.0\n"
     ]
    },
    {
     "name": "stderr",
     "output_type": "stream",
     "text": [
      "/home/jupyter-heojw/.conda/envs/jwheo/lib/python3.7/site-packages/sklearn/mixture/_base.py:146: ConvergenceWarning: Number of distinct clusters (1) found smaller than n_clusters (3). Possibly due to duplicate points in X.\n",
      "  .fit(X)\n"
     ]
    },
    {
     "name": "stdout",
     "output_type": "stream",
     "text": [
      "***** Test Result: loss: 92.350 acc: 52.3810\n",
      "Accurasy: 61.53846153846154\n",
      "ARI: 0.0\n"
     ]
    },
    {
     "name": "stderr",
     "output_type": "stream",
     "text": [
      "/home/jupyter-heojw/.conda/envs/jwheo/lib/python3.7/site-packages/sklearn/mixture/_base.py:146: ConvergenceWarning: Number of distinct clusters (1) found smaller than n_clusters (3). Possibly due to duplicate points in X.\n",
      "  .fit(X)\n"
     ]
    },
    {
     "name": "stdout",
     "output_type": "stream",
     "text": [
      "***** Test Result: loss: 88.504 acc: 52.3810\n",
      "Accurasy: 62.82051282051282\n",
      "ARI: 0.0\n"
     ]
    },
    {
     "name": "stderr",
     "output_type": "stream",
     "text": [
      "/home/jupyter-heojw/.conda/envs/jwheo/lib/python3.7/site-packages/sklearn/mixture/_base.py:146: ConvergenceWarning: Number of distinct clusters (1) found smaller than n_clusters (3). Possibly due to duplicate points in X.\n",
      "  .fit(X)\n"
     ]
    },
    {
     "name": "stdout",
     "output_type": "stream",
     "text": [
      "***** Test Result: loss: 84.497 acc: 52.3810\n",
      "Accurasy: 58.97435897435897\n",
      "ARI: 0.0\n"
     ]
    },
    {
     "name": "stderr",
     "output_type": "stream",
     "text": [
      "/home/jupyter-heojw/.conda/envs/jwheo/lib/python3.7/site-packages/sklearn/mixture/_base.py:146: ConvergenceWarning: Number of distinct clusters (1) found smaller than n_clusters (3). Possibly due to duplicate points in X.\n",
      "  .fit(X)\n"
     ]
    },
    {
     "name": "stdout",
     "output_type": "stream",
     "text": [
      "***** Test Result: loss: 80.936 acc: 52.3810\n",
      "Accurasy: 61.53846153846154\n",
      "ARI: 0.0\n"
     ]
    },
    {
     "name": "stderr",
     "output_type": "stream",
     "text": [
      "/home/jupyter-heojw/.conda/envs/jwheo/lib/python3.7/site-packages/sklearn/mixture/_base.py:146: ConvergenceWarning: Number of distinct clusters (1) found smaller than n_clusters (3). Possibly due to duplicate points in X.\n",
      "  .fit(X)\n"
     ]
    },
    {
     "name": "stdout",
     "output_type": "stream",
     "text": [
      "***** Test Result: loss: 79.480 acc: 52.3810\n",
      "Accurasy: 56.41025641025641\n",
      "ARI: 0.0\n"
     ]
    },
    {
     "name": "stderr",
     "output_type": "stream",
     "text": [
      "/home/jupyter-heojw/.conda/envs/jwheo/lib/python3.7/site-packages/sklearn/mixture/_base.py:146: ConvergenceWarning: Number of distinct clusters (1) found smaller than n_clusters (3). Possibly due to duplicate points in X.\n",
      "  .fit(X)\n"
     ]
    },
    {
     "name": "stdout",
     "output_type": "stream",
     "text": [
      "***** Test Result: loss: 76.005 acc: 71.4286\n",
      "Accurasy: 56.41025641025641\n",
      "ARI: 0.0\n"
     ]
    },
    {
     "name": "stderr",
     "output_type": "stream",
     "text": [
      "/home/jupyter-heojw/.conda/envs/jwheo/lib/python3.7/site-packages/sklearn/mixture/_base.py:146: ConvergenceWarning: Number of distinct clusters (1) found smaller than n_clusters (3). Possibly due to duplicate points in X.\n",
      "  .fit(X)\n"
     ]
    },
    {
     "name": "stdout",
     "output_type": "stream",
     "text": [
      "***** Test Result: loss: 75.439 acc: 71.4286\n",
      "Accurasy: 57.69230769230769\n",
      "ARI: 0.0\n"
     ]
    },
    {
     "name": "stderr",
     "output_type": "stream",
     "text": [
      "/home/jupyter-heojw/.conda/envs/jwheo/lib/python3.7/site-packages/sklearn/mixture/_base.py:146: ConvergenceWarning: Number of distinct clusters (1) found smaller than n_clusters (3). Possibly due to duplicate points in X.\n",
      "  .fit(X)\n"
     ]
    },
    {
     "name": "stdout",
     "output_type": "stream",
     "text": [
      "***** Test Result: loss: 75.979 acc: 71.4286\n",
      "Accurasy: 60.256410256410255\n",
      "ARI: 0.0\n"
     ]
    },
    {
     "name": "stderr",
     "output_type": "stream",
     "text": [
      "/home/jupyter-heojw/.conda/envs/jwheo/lib/python3.7/site-packages/sklearn/mixture/_base.py:146: ConvergenceWarning: Number of distinct clusters (1) found smaller than n_clusters (3). Possibly due to duplicate points in X.\n",
      "  .fit(X)\n"
     ]
    },
    {
     "name": "stdout",
     "output_type": "stream",
     "text": [
      "***** Test Result: loss: 75.306 acc: 71.4286\n",
      "Accurasy: 57.69230769230769\n",
      "ARI: 0.0\n"
     ]
    },
    {
     "name": "stderr",
     "output_type": "stream",
     "text": [
      "/home/jupyter-heojw/.conda/envs/jwheo/lib/python3.7/site-packages/sklearn/mixture/_base.py:146: ConvergenceWarning: Number of distinct clusters (1) found smaller than n_clusters (3). Possibly due to duplicate points in X.\n",
      "  .fit(X)\n"
     ]
    },
    {
     "name": "stdout",
     "output_type": "stream",
     "text": [
      "***** Test Result: loss: 75.971 acc: 71.4286\n",
      "Accurasy: 57.69230769230769\n",
      "ARI: 0.0\n"
     ]
    },
    {
     "name": "stderr",
     "output_type": "stream",
     "text": [
      "/home/jupyter-heojw/.conda/envs/jwheo/lib/python3.7/site-packages/sklearn/mixture/_base.py:146: ConvergenceWarning: Number of distinct clusters (1) found smaller than n_clusters (3). Possibly due to duplicate points in X.\n",
      "  .fit(X)\n"
     ]
    },
    {
     "name": "stdout",
     "output_type": "stream",
     "text": [
      "***** Test Result: loss: 70.027 acc: 66.6667\n",
      "Accurasy: 55.12820512820513\n",
      "ARI: 0.0\n"
     ]
    },
    {
     "name": "stderr",
     "output_type": "stream",
     "text": [
      "/home/jupyter-heojw/.conda/envs/jwheo/lib/python3.7/site-packages/sklearn/mixture/_base.py:146: ConvergenceWarning: Number of distinct clusters (1) found smaller than n_clusters (3). Possibly due to duplicate points in X.\n",
      "  .fit(X)\n"
     ]
    },
    {
     "name": "stdout",
     "output_type": "stream",
     "text": [
      "***** Test Result: loss: 69.777 acc: 66.6667\n",
      "Accurasy: 56.41025641025641\n",
      "ARI: 0.0\n"
     ]
    },
    {
     "name": "stderr",
     "output_type": "stream",
     "text": [
      "/home/jupyter-heojw/.conda/envs/jwheo/lib/python3.7/site-packages/sklearn/mixture/_base.py:146: ConvergenceWarning: Number of distinct clusters (1) found smaller than n_clusters (3). Possibly due to duplicate points in X.\n",
      "  .fit(X)\n"
     ]
    },
    {
     "name": "stdout",
     "output_type": "stream",
     "text": [
      "***** Test Result: loss: 69.684 acc: 66.6667\n",
      "Accurasy: 58.97435897435897\n",
      "ARI: 0.0\n"
     ]
    },
    {
     "name": "stderr",
     "output_type": "stream",
     "text": [
      "/home/jupyter-heojw/.conda/envs/jwheo/lib/python3.7/site-packages/sklearn/mixture/_base.py:146: ConvergenceWarning: Number of distinct clusters (1) found smaller than n_clusters (3). Possibly due to duplicate points in X.\n",
      "  .fit(X)\n"
     ]
    },
    {
     "name": "stdout",
     "output_type": "stream",
     "text": [
      "***** Test Result: loss: 69.665 acc: 66.6667\n",
      "Accurasy: 57.69230769230769\n",
      "ARI: 0.0\n"
     ]
    },
    {
     "name": "stderr",
     "output_type": "stream",
     "text": [
      "/home/jupyter-heojw/.conda/envs/jwheo/lib/python3.7/site-packages/sklearn/mixture/_base.py:146: ConvergenceWarning: Number of distinct clusters (1) found smaller than n_clusters (3). Possibly due to duplicate points in X.\n",
      "  .fit(X)\n"
     ]
    },
    {
     "name": "stdout",
     "output_type": "stream",
     "text": [
      "***** Test Result: loss: 70.106 acc: 66.6667\n",
      "Accurasy: 64.1025641025641\n",
      "ARI: 0.0\n"
     ]
    },
    {
     "name": "stderr",
     "output_type": "stream",
     "text": [
      "/home/jupyter-heojw/.conda/envs/jwheo/lib/python3.7/site-packages/sklearn/mixture/_base.py:146: ConvergenceWarning: Number of distinct clusters (1) found smaller than n_clusters (3). Possibly due to duplicate points in X.\n",
      "  .fit(X)\n"
     ]
    },
    {
     "name": "stdout",
     "output_type": "stream",
     "text": [
      "***** Test Result: loss: 69.572 acc: 55.0000\n",
      "Accurasy: 64.1025641025641\n",
      "ARI: 0.0\n"
     ]
    },
    {
     "name": "stderr",
     "output_type": "stream",
     "text": [
      "/home/jupyter-heojw/.conda/envs/jwheo/lib/python3.7/site-packages/sklearn/mixture/_base.py:146: ConvergenceWarning: Number of distinct clusters (1) found smaller than n_clusters (3). Possibly due to duplicate points in X.\n",
      "  .fit(X)\n"
     ]
    },
    {
     "name": "stdout",
     "output_type": "stream",
     "text": [
      "***** Test Result: loss: 69.669 acc: 55.0000\n",
      "Accurasy: 66.66666666666667\n",
      "ARI: 0.0\n"
     ]
    },
    {
     "name": "stderr",
     "output_type": "stream",
     "text": [
      "/home/jupyter-heojw/.conda/envs/jwheo/lib/python3.7/site-packages/sklearn/mixture/_base.py:146: ConvergenceWarning: Number of distinct clusters (1) found smaller than n_clusters (3). Possibly due to duplicate points in X.\n",
      "  .fit(X)\n"
     ]
    },
    {
     "name": "stdout",
     "output_type": "stream",
     "text": [
      "***** Test Result: loss: 70.200 acc: 55.0000\n",
      "Accurasy: 61.53846153846154\n",
      "ARI: 0.0\n"
     ]
    },
    {
     "name": "stderr",
     "output_type": "stream",
     "text": [
      "/home/jupyter-heojw/.conda/envs/jwheo/lib/python3.7/site-packages/sklearn/mixture/_base.py:146: ConvergenceWarning: Number of distinct clusters (1) found smaller than n_clusters (3). Possibly due to duplicate points in X.\n",
      "  .fit(X)\n"
     ]
    },
    {
     "name": "stdout",
     "output_type": "stream",
     "text": [
      "***** Test Result: loss: 70.028 acc: 55.0000\n",
      "Accurasy: 65.38461538461539\n",
      "ARI: 0.0\n"
     ]
    },
    {
     "name": "stderr",
     "output_type": "stream",
     "text": [
      "/home/jupyter-heojw/.conda/envs/jwheo/lib/python3.7/site-packages/sklearn/mixture/_base.py:146: ConvergenceWarning: Number of distinct clusters (1) found smaller than n_clusters (3). Possibly due to duplicate points in X.\n",
      "  .fit(X)\n",
      "\n",
      "100%|██████████| 1/1 [00:06<00:00,  6.36s/it]\u001b[A\n",
      "100%|██████████| 3/3 [00:40<00:00, 13.37s/it]"
     ]
    },
    {
     "name": "stdout",
     "output_type": "stream",
     "text": [
      "***** Test Result: loss: 69.772 acc: 55.0000\n"
     ]
    },
    {
     "name": "stderr",
     "output_type": "stream",
     "text": [
      "\n"
     ]
    }
   ],
   "source": [
    "import torch\n",
    "import torch.nn as nn\n",
    "import torch.optim as optim\n",
    "from torch.utils.data import DataLoader\n",
    "from torch.nn import Parameter\n",
    "import math\n",
    "import numpy as np\n",
    "import collections\n",
    "from sklearn import metrics\n",
    "import pandas as pd\n",
    "from sklearn.mixture import GaussianMixture\n",
    "from scipy.optimize import linear_sum_assignment as linear_assignment\n",
    "from torchvision import datasets\n",
    "from sklearn.manifold import TSNE\n",
    "import matplotlib.pyplot as plt\n",
    "from torchvision import transforms\n",
    "from tqdm import tqdm\n",
    "import scipy.io as scio\n",
    "import seaborn as sns\n",
    "from scipy.stats import skew, kurtosis\n",
    "from sklearn.model_selection import KFold\n",
    "import torch.utils.data as data\n",
    "from torch.optim.lr_scheduler import StepLR\n",
    "import torch.nn.functional as F\n",
    "import argparse\n",
    "\n",
    "from VAE_gamma import BasicDataset, generate_gamma, cluster_acc, EarlyStopping, VAE_gamma, pretrain_fit, train_model, cv_result\n",
    "\n",
    "\n",
    "\n",
    "data_x = scio.loadmat('/home/jupyter-heojw/chowdary104.mat')\n",
    "data_y = scio.loadmat('/home/jupyter-heojw/class_chowdary.mat')\n",
    "\n",
    "\n",
    "chowdary104 = data_x['chowdary']\n",
    "label = data_y['class_chowdary'].reshape(104)\n",
    "\n",
    "label[label==1] = 0\n",
    "label[label==2] = 1\n",
    "\n",
    "x_data = chowdary104\n",
    "y_data = label\n",
    "\n",
    "train_dataset = BasicDataset(x_data,y_data)\n",
    "test_dataset = BasicDataset(x_data,y_data)\n",
    "\n",
    "\n",
    "device = torch.device('cuda:5')\n",
    "\n",
    "\n",
    "dataloader = torch.utils.data.DataLoader(train_dataset, batch_size=26, shuffle=True, drop_last=True)\n",
    "dataloader_test = torch.utils.data.DataLoader(test_dataset, batch_size=len(test_dataset), shuffle=True)\n",
    "\n",
    "dataset_sizes = len(train_dataset)\n",
    "\n",
    "latent_dim_list = [1]\n",
    "\n",
    "num_cluster_list = [1,2,3]\n",
    "\n",
    "\n",
    "# latent_dim_list = [1,2,4,6,8,10,12,14,16,18]\n",
    "\n",
    "# num_cluster_list = [1,2,3]\n",
    "\n",
    "n_pre=5\n",
    "\n",
    "\n",
    "from tqdm import tqdm\n",
    "\n",
    "dict_list = {}\n",
    "monte_number = 1\n",
    "for k in tqdm(num_cluster_list):\n",
    "    for j in tqdm(latent_dim_list):\n",
    "        model = VAE_gamma(data_dim=182, latent_dim=j, device=device, encodeLayer=[200,100,30], decodeLayer=[30,100,200], num_cluster=k)\n",
    "        loss_list = cv_result(model, x_data, y_data, 26, 1, 123, '/home/jupyter-heojw/VAE-gamma/pretrain/chowdary', j, k, device, \n",
    "                              initial_num=n_pre, n_splits=5, pretrain_epoch=1, epoch_train=1,shuffle=True)\n",
    "        dict_list.update(loss_list)\n",
    "        loss_list = np.array(list(dict_list.items()))[:,1].astype('float')\n",
    "        np.save('/home/jupyter-heojw/VAE-gamma/pretrain/loss_list/gamma_bhatta_save.npy', loss_list)      "
   ]
  },
  {
   "cell_type": "code",
   "execution_count": 2,
   "id": "aware-carol",
   "metadata": {},
   "outputs": [
    {
     "name": "stdout",
     "output_type": "stream",
     "text": [
      "[1. 1. 1.]\n",
      "[81.74729518 90.34620651 77.62209335]\n",
      "3\n",
      "1\n"
     ]
    }
   ],
   "source": [
    "loss_list = np.array(list(dict_list.items()))[:,1].astype('float')\n",
    "key_list = np.array(list(dict_list.items()))[:,0]\n",
    "\n",
    "loss_list = np.nan_to_num(loss_list, nan = np.nanmean(loss_list))\n",
    "\n",
    "min_loss_list = np.array([])\n",
    "\n",
    "for i in range(0,len(latent_dim_list)*n_pre*len(num_cluster_list)):\n",
    "    min_loss_list = np.append(min_loss_list,loss_list[((i*n_pre)):(((i+1)*n_pre))].min()) \n",
    "\n",
    "mean_loss_list = np.array([])\n",
    "for i in range(0,len(latent_dim_list)*len(num_cluster_list)):\n",
    "    mean_loss_list = np.append(mean_loss_list,min_loss_list[i*n_pre:(i+1)*n_pre].mean())\n",
    "\n",
    "optimal_list = []\n",
    "for i in range(0,len(num_cluster_list)):\n",
    "    index_latent = np.where(mean_loss_list[i*len(latent_dim_list):(i+1)*len(latent_dim_list)]==mean_loss_list[i*len(latent_dim_list):(i+1)*len(latent_dim_list)].min())[0][0]\n",
    "    optimal_list = np.append(optimal_list,latent_dim_list[index_latent])\n",
    "\n",
    "print(optimal_list)\n",
    "\n",
    "cluster_loss_list = np.array([])\n",
    "for i in range(0,len(num_cluster_list)):\n",
    "    cluster_loss_list = np.append(cluster_loss_list,mean_loss_list[i*len(latent_dim_list):(i+1)*len(latent_dim_list)].min())\n",
    "\n",
    "print(cluster_loss_list)\n",
    "\n",
    "opt_cluster = np.where(cluster_loss_list==cluster_loss_list.min())[0][0]\n",
    "print(num_cluster_list[opt_cluster])\n",
    "\n",
    "latent_dim = np.int(optimal_list[np.where(cluster_loss_list==cluster_loss_list.min())[0][0]])\n",
    "print(latent_dim)\n"
   ]
  },
  {
   "cell_type": "code",
   "execution_count": 3,
   "id": "awful-season",
   "metadata": {},
   "outputs": [],
   "source": [
    "latent_dim = latent_dim"
   ]
  },
  {
   "cell_type": "code",
   "execution_count": 4,
   "id": "addressed-beads",
   "metadata": {},
   "outputs": [],
   "source": [
    "batch_size = 26"
   ]
  },
  {
   "cell_type": "code",
   "execution_count": 5,
   "id": "finished-circulation",
   "metadata": {},
   "outputs": [],
   "source": [
    "n_pre=5"
   ]
  },
  {
   "cell_type": "code",
   "execution_count": 6,
   "id": "minus-enough",
   "metadata": {},
   "outputs": [],
   "source": [
    "train_dataset = BasicDataset(x_data,y_data)\n",
    "test_dataset = BasicDataset(x_data,y_data)\n",
    "dataloader = torch.utils.data.DataLoader(train_dataset, batch_size=batch_size, shuffle=True, drop_last=True)\n",
    "dataloader_test = torch.utils.data.DataLoader(test_dataset, batch_size=len(test_dataset), shuffle=True)"
   ]
  },
  {
   "cell_type": "code",
   "execution_count": 7,
   "id": "sudden-invitation",
   "metadata": {},
   "outputs": [],
   "source": [
    "from torch.optim.lr_scheduler import StepLR"
   ]
  },
  {
   "cell_type": "code",
   "execution_count": 8,
   "id": "accredited-cameroon",
   "metadata": {
    "tags": []
   },
   "outputs": [
    {
     "name": "stdout",
     "output_type": "stream",
     "text": [
      "Accurasy: 57.69230769230769\n",
      "ARI: 0.003932468393165688\n",
      "***** Test Result: loss: 580.448 acc: 57.6923\n",
      "Accurasy: 59.61538461538461\n",
      "ARI: 0.027251149134759275\n",
      "***** Test Result: loss: 468.384 acc: 66.3462\n",
      "Accurasy: 58.65384615384615\n",
      "ARI: 0.019090357880672554\n",
      "***** Test Result: loss: 555.334 acc: 60.5769\n",
      "Accurasy: 50.96153846153846\n",
      "ARI: -0.009075024945863503\n",
      "***** Test Result: loss: 477.538 acc: 61.5385\n",
      "Accurasy: 52.88461538461539\n",
      "ARI: -0.009086406993518937\n",
      "***** Test Result: loss: 472.359 acc: 59.6154\n"
     ]
    }
   ],
   "source": [
    "final_list = {}\n",
    "for i in range(1, n_pre+1):\n",
    "#     train_dataset = BasicDataset(X_train,Y_train)\n",
    "#     test_dataset = BasicDataset(X_test,Y_test)\n",
    "\n",
    "#     dataloader = torch.utils.data.DataLoader(train_dataset, batch_size=batch_size, shuffle=True, drop_last = True)\n",
    "#     dataloader_test = torch.utils.data.DataLoader(test_dataset, batch_size=len(test_dataset), shuffle=True, drop_last = True)        \n",
    "\n",
    "    if torch.cuda.is_available():\n",
    "        pre_model =  VAE_gamma(data_dim=182, latent_dim=latent_dim, device=torch.device('cuda:5'), encodeLayer=[200,100,30], decodeLayer=[30,100,200], num_cluster=2).cuda(device)\n",
    "\n",
    "    patience = 5\n",
    "    optimizer_auto = optim.Adam(pre_model.parameters(), lr=0.001)      \n",
    "    scheduler = StepLR(optimizer_auto, step_size=20, gamma= 0.9)\n",
    "    path_name = './chowdary_pre_true'+ str(latent_dim) +'_'+str(i)+'.pth'\n",
    "    pretrain_epoch= 1\n",
    "    pretrain_fit(dataloader, pre_model, optimizer_auto,scheduler,path_name,pretrain_epoch,monte_number,2,device=torch.device('cuda:5'))\n",
    "    \n",
    "    if torch.cuda.is_available():\n",
    "        model_train = VAE_gamma(data_dim=182, latent_dim=latent_dim, device=torch.device('cuda:5'), encodeLayer=[200,100,30], decodeLayer=[30,100,200], num_cluster=2).cuda(device)     \n",
    "    saveWeightPath = path_name\n",
    "    optimizer = optim.Adam(model_train.parameters(), lr=0.001)\n",
    "    scheduler = StepLR(optimizer, step_size=20, gamma= 0.9)\n",
    "    model_train.load_state_dict(torch.load(saveWeightPath))\n",
    "    epoch_train=1\n",
    "    path_name_2 = './chowdary_true' +str(latent_dim) + '_initial' + str(i) +  '.pth'\n",
    "\n",
    "    loss = train_model(dataloader, dataloader_test, model_train, optimizer,scheduler,epoch_train,batch_size,monte_number,10,device,path_name_2)\n",
    "    final_list[' initial:'+str(i) + ' dim:' + str(latent_dim) ] = loss"
   ]
  },
  {
   "cell_type": "code",
   "execution_count": 9,
   "id": "mobile-energy",
   "metadata": {},
   "outputs": [
    {
     "data": {
      "text/plain": [
       "{' initial:1 dim:1': 580.4481750488281,\n",
       " ' initial:2 dim:1': 468.38441467285156,\n",
       " ' initial:3 dim:1': 555.3344177246094,\n",
       " ' initial:4 dim:1': 477.538232421875,\n",
       " ' initial:5 dim:1': 472.3588562011719}"
      ]
     },
     "execution_count": 9,
     "metadata": {},
     "output_type": "execute_result"
    }
   ],
   "source": [
    "final_list"
   ]
  },
  {
   "cell_type": "code",
   "execution_count": 10,
   "id": "sapphire-dakota",
   "metadata": {},
   "outputs": [
    {
     "data": {
      "text/plain": [
       "array([580.44817505, 468.38441467, 555.33441772, 477.53823242,\n",
       "       472.3588562 ])"
      ]
     },
     "execution_count": 10,
     "metadata": {},
     "output_type": "execute_result"
    }
   ],
   "source": [
    "final_loss = np.array(list(final_list.items()))[:,1].astype('float')\n",
    "final_loss"
   ]
  },
  {
   "cell_type": "code",
   "execution_count": 11,
   "id": "running-usage",
   "metadata": {},
   "outputs": [],
   "source": [
    "optim_model = np.where(final_loss==final_loss.min())[0][0] + 1 "
   ]
  },
  {
   "cell_type": "code",
   "execution_count": 12,
   "id": "incorporate-arthritis",
   "metadata": {},
   "outputs": [
    {
     "data": {
      "text/plain": [
       "2"
      ]
     },
     "execution_count": 12,
     "metadata": {},
     "output_type": "execute_result"
    }
   ],
   "source": [
    "optim_model"
   ]
  },
  {
   "cell_type": "code",
   "execution_count": 13,
   "id": "rough-adolescent",
   "metadata": {},
   "outputs": [],
   "source": [
    "path_name_best =  './chowdary_true' +str(latent_dim) + '_initial' + str(optim_model) +  '.pth'"
   ]
  },
  {
   "cell_type": "code",
   "execution_count": 14,
   "id": "dressed-alfred",
   "metadata": {
    "tags": []
   },
   "outputs": [
    {
     "data": {
      "text/plain": [
       "<All keys matched successfully>"
      ]
     },
     "execution_count": 14,
     "metadata": {},
     "output_type": "execute_result"
    }
   ],
   "source": [
    "if torch.cuda.is_available():\n",
    "    model =  VAE_gamma(data_dim=182, latent_dim=latent_dim, device=torch.device('cuda:5'), encodeLayer=[200,100,30], decodeLayer=[30,100,200], num_cluster=2).cuda(device) \n",
    "\n",
    "saveWeightPath = path_name_best\n",
    "\n",
    "# optimizer = optim.Adadelta(model.parameters(), lr=0.001, rho=.95)\n",
    "model.load_state_dict(torch.load(saveWeightPath))"
   ]
  },
  {
   "cell_type": "code",
   "execution_count": 15,
   "id": "reasonable-seller",
   "metadata": {
    "tags": []
   },
   "outputs": [],
   "source": [
    "dataloader = torch.utils.data.DataLoader(train_dataset, batch_size=batch_size, shuffle=True, drop_last=True)\n",
    "dataloader_test = torch.utils.data.DataLoader(test_dataset, batch_size=len(test_dataset), shuffle=True)"
   ]
  },
  {
   "cell_type": "code",
   "execution_count": 17,
   "id": "executive-going",
   "metadata": {},
   "outputs": [
    {
     "name": "stdout",
     "output_type": "stream",
     "text": [
      "***** Test Result: loss: 468.780 acc: 65.3846\n"
     ]
    }
   ],
   "source": [
    "model.eval()\n",
    "accuracy_list = []\n",
    "test_loss_list = []    \n",
    "test_loss_sum = 0.0\n",
    "for perform in range(0,100):\n",
    "    test_loss = 0.0\n",
    "    test_running_correct = 0.0\n",
    "    label_set_test = torch.tensor([],dtype=int).cuda(device)\n",
    "    preds_set_test = torch.tensor([],dtype=int).cuda(device)\n",
    "    for batch_idx, data in enumerate(dataloader_test):\n",
    "\n",
    "        img, label = data \n",
    "        img = img.float()\n",
    "        img = img.view(img.size(0), -1)\n",
    "\n",
    "        if torch.cuda.is_available():\n",
    "            img = img.cuda(device)\n",
    "            label = label.cuda(device).float()\n",
    "\n",
    "        recon_al,recon_be, logalpha, logbeta, z = model(img)\n",
    "        monte_gamma = 0\n",
    "        monte_recon_loss = 0\n",
    "        for l in range(monte_number):\n",
    "            z_l = model.reparametrize(logalpha, logbeta)\n",
    "            m = nn.Softplus()\n",
    "            recon_al_l = 1e-6 + m(model.decode(z_l)[:,:model.data_dim])\n",
    "            recon_be_l = 1e-6 + m(model.decode(z_l)[:,model.data_dim:])\n",
    "            monte_gamma += model.get_gamma(z_l,len(dataloader_test.dataset))\n",
    "            monte_recon_loss += model.recon_loss(recon_al_l,recon_be_l, img)\n",
    "        sgvb_gamma_test = monte_gamma/monte_number\n",
    "        sgvb_loss_test = torch.mean(monte_recon_loss/monte_number \n",
    "                                    + model.kl_loss(sgvb_gamma_test, logalpha, logbeta,len(dataloader_test.dataset))) #+ 1*model.Loss_b(img,z, logalpha, logbeta, 2, latent_dim))\n",
    "\n",
    "        _, preds = torch.max(sgvb_gamma_test,1)\n",
    "\n",
    "        label_set_test = torch.cat((label_set_test,label)).int()\n",
    "        preds_set_test = torch.cat((preds_set_test,preds)).int()\n",
    "        test_loss += sgvb_loss_test.item() * img.size(0)\n",
    "\n",
    "\n",
    "    label_set_test = label_set_test.cpu()\n",
    "    preds_set_test = preds_set_test.cpu()\n",
    "\n",
    "    test_acc = cluster_acc(preds_set_test,label_set_test) * 100/preds_set_test.shape[0]\n",
    "    test_loss_sum += test_loss\n",
    "    accuracy_list = np.append(accuracy_list, test_acc)\n",
    "\n",
    "test_loss_list = np.append(test_loss_list, test_loss_sum/100)\n",
    "\n",
    "#         if epoch == 1 or epoch%30 == 0:\n",
    "#         if epoch == 1 or epoch%10 == 0:\n",
    "#             target, label = preds_set_test.numpy(), label_set_test.numpy()\n",
    "#             mo = TSNE( n_components = 2, init='pca')\n",
    "#     #         recon_al, recon_be, logalpha, logbeta, z = model(img)\n",
    "#             recon_al,recon_be, logalpha, logbeta, z = model(img)\n",
    "#             zs_tsne = mo.fit_transform( z.data.cpu().numpy())\n",
    "\n",
    "#             plt.figure(figsize = (10, 5))\n",
    "#             plt.title(f'Number of plotted data : {(preds_set_test.shape)[0]}', fontsize = 15)\n",
    "#             cmap = plt.get_cmap(\"tab10\")\n",
    "#             for t in range(5):\n",
    "#                 points = zs_tsne[target == t]\n",
    "#                 plt.scatter(points[:, 0], points[:, 1], color=cmap(t), label=str(t))\n",
    "#             plt.legend()\n",
    "#             plt.savefig('./tsne'+ str(epoch)+'.png')\n",
    "#             plt.show()\n",
    "#             plt.close()\n",
    "#             print('tsne:' + str(epoch))\n",
    "\n",
    "print('***** Test Result: loss: {:.3f} acc: {:.4f}'\n",
    "  .format(np.min(test_loss_list) / len(dataloader_test.dataset), np.max(accuracy_list)))"
   ]
  },
  {
   "cell_type": "code",
   "execution_count": 19,
   "id": "intensive-albuquerque",
   "metadata": {
    "tags": []
   },
   "outputs": [
    {
     "name": "stdout",
     "output_type": "stream",
     "text": [
      "***** Test Result: loss: 467.110 acc: 65.3846\n"
     ]
    },
    {
     "data": {
      "image/png": "[encoded data removed]",
      "text/plain": [
       "<Figure size 640x480 with 1 Axes>"
      ]
     },
     "metadata": {},
     "output_type": "display_data"
    }
   ],
   "source": [
    "while True:\n",
    "    model.eval()\n",
    "    test_loss = 0.0\n",
    "    test_running_correct = 0.0\n",
    "    label_set_test = torch.tensor([],dtype=int).cuda(device)\n",
    "    preds_set_test = torch.tensor([],dtype=int).cuda(device)\n",
    "    for batch_idx, data in enumerate(dataloader_test):\n",
    "\n",
    "        img, label = data \n",
    "        img = img.float()\n",
    "        img = img.view(img.size(0), -1)\n",
    "\n",
    "        if torch.cuda.is_available():\n",
    "            img = img.cuda(device)\n",
    "            label = label.cuda(device).float()\n",
    "\n",
    "        recon_al,recon_be, logalpha, logbeta, z = model(img)\n",
    "        monte_gamma = 0\n",
    "        monte_recon_loss = 0\n",
    "        for l in range(monte_number):\n",
    "            z_l = model.reparametrize(logalpha, logbeta)\n",
    "            m = nn.Softplus()\n",
    "            recon_al_l = 1e-6 + m(model.decode(z_l)[:,:model.data_dim])\n",
    "            recon_be_l = 1e-6 + m(model.decode(z_l)[:,model.data_dim:])\n",
    "            monte_gamma += model.get_gamma(z_l,len(dataloader_test.dataset))\n",
    "            monte_recon_loss += model.recon_loss(recon_al_l,recon_be_l, img)\n",
    "        sgvb_gamma_test = monte_gamma/monte_number\n",
    "        sgvb_loss_test = torch.mean(monte_recon_loss/monte_number \n",
    "                                    + model.kl_loss(sgvb_gamma_test, logalpha, logbeta,len(dataloader_test.dataset))) #+ 1*model.Loss_b(img,z, logalpha, logbeta, 2, latent_dim))\n",
    "\n",
    "        _, preds = torch.max(sgvb_gamma_test,1)\n",
    "\n",
    "        label_set_test = torch.cat((label_set_test,label)).int()\n",
    "        preds_set_test = torch.cat((preds_set_test,preds)).int()\n",
    "        test_loss += sgvb_loss_test.item() * img.size(0)\n",
    "\n",
    "\n",
    "    label_set_test = label_set_test.cpu()\n",
    "    preds_set_test = preds_set_test.cpu()\n",
    "\n",
    "    test_acc = cluster_acc(preds_set_test,label_set_test) * 100/preds_set_test.shape[0]\n",
    "\n",
    "    \n",
    "    if test_acc == np.max(accuracy_list):\n",
    "        print('***** Test Result: loss: {:.3f} acc: {:.4f}'\n",
    "              .format(test_loss / len(dataloader_test.dataset), test_acc))\n",
    "\n",
    "\n",
    "\n",
    "        if latent_dim!=1:\n",
    "\n",
    "\n",
    "            target, label = preds_set_test.numpy(), label_set_test.numpy()\n",
    "            mo = TSNE( n_components = 2, init='pca')\n",
    "            #         recon_al, recon_be, logalpha, logbeta, z = model(img)\n",
    "            recon_al,recon_be, logalpha, logbeta, z = model(img)\n",
    "            zs_tsne = mo.fit_transform( z.data.cpu().numpy())\n",
    "\n",
    "            plt.figure(figsize = (10, 5))\n",
    "            plt.title(f'Number of plotted data : {(preds_set_test.shape)[0]}', fontsize = 15)\n",
    "            cmap = plt.get_cmap(\"tab10\")\n",
    "            for t in range(5):\n",
    "                points = zs_tsne[(target == t)]\n",
    "                plt.scatter(points[:, 0], points[:, 1], color=cmap(t), label=str(t))\n",
    "            plt.legend()\n",
    "            plt.show()\n",
    "            plt.close()\n",
    "        else:\n",
    "            target, label = preds_set_test.numpy(), label_set_test.numpy()\n",
    "            recon_al, recon_be, logalpha, logbeta, z = model(img)\n",
    "            cmap = plt.get_cmap(\"tab10\")\n",
    "            z_data = z.cpu().detach().numpy()\n",
    "\n",
    "            sns.kdeplot(z_data[np.where(preds_set_test == 0)[0],0], color=cmap(0), label=str(0)).set(xlim=(0))\n",
    "            sns.kdeplot(z_data[np.where(preds_set_test == 1)[0],0], color=cmap(1), label=str(1)).set(xlim=(0))\n",
    "            plt.legend()\n",
    "            plt.show()\n",
    "            \n",
    "            \n",
    "        break\n",
    "        \n",
    "\n",
    "\n"
   ]
  },
  {
   "cell_type": "code",
   "execution_count": null,
   "id": "legal-celtic",
   "metadata": {},
   "outputs": [],
   "source": []
  },
  {
   "cell_type": "code",
   "execution_count": null,
   "id": "indian-picking",
   "metadata": {},
   "outputs": [],
   "source": []
  },
  {
   "cell_type": "code",
   "execution_count": null,
   "id": "golden-cocktail",
   "metadata": {},
   "outputs": [],
   "source": []
  }
 ],
 "metadata": {
  "kernelspec": {
   "display_name": "jwheo",
   "language": "python",
   "name": "jwheo"
  },
  "language_info": {
   "codemirror_mode": {
    "name": "ipython",
    "version": 3
   },
   "file_extension": ".py",
   "mimetype": "text/x-python",
   "name": "python",
   "nbconvert_exporter": "python",
   "pygments_lexer": "ipython3",
   "version": "3.7.3"
  }
 },
 "nbformat": 4,
 "nbformat_minor": 5
}
